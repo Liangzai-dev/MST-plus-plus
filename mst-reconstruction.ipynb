{
 "cells": [
  {
   "cell_type": "code",
   "execution_count": 1,
   "id": "419f11d1",
   "metadata": {
    "execution": {
     "iopub.execute_input": "2023-10-12T04:42:59.032673Z",
     "iopub.status.busy": "2023-10-12T04:42:59.032110Z",
     "iopub.status.idle": "2023-10-12T04:43:38.151129Z",
     "shell.execute_reply": "2023-10-12T04:43:38.149923Z"
    },
    "papermill": {
     "duration": 39.125478,
     "end_time": "2023-10-12T04:43:38.153483",
     "exception": false,
     "start_time": "2023-10-12T04:42:59.028005",
     "status": "completed"
    },
    "tags": []
   },
   "outputs": [
    {
     "name": "stdout",
     "output_type": "stream",
     "text": [
      "\u001b[33mhint: Using 'master' as the name for the initial branch. This default branch name\u001b[m\r\n",
      "\u001b[33mhint: is subject to change. To configure the initial branch name to use in all\u001b[m\r\n",
      "\u001b[33mhint: of your new repositories, which will suppress this warning, call:\u001b[m\r\n",
      "\u001b[33mhint: \u001b[m\r\n",
      "\u001b[33mhint: \tgit config --global init.defaultBranch <name>\u001b[m\r\n",
      "\u001b[33mhint: \u001b[m\r\n",
      "\u001b[33mhint: Names commonly chosen instead of 'master' are 'main', 'trunk' and\u001b[m\r\n",
      "\u001b[33mhint: 'development'. The just-created branch can be renamed via this command:\u001b[m\r\n",
      "\u001b[33mhint: \u001b[m\r\n",
      "\u001b[33mhint: \tgit branch -m <name>\u001b[m\r\n",
      "Initialized empty Git repository in /kaggle/working/.git/\r\n",
      "Cloning into 'MST-plus-plus'...\r\n",
      "remote: Enumerating objects: 753, done.\u001b[K\r\n",
      "remote: Counting objects: 100% (753/753), done.\u001b[K\r\n",
      "remote: Compressing objects: 100% (315/315), done.\u001b[K\r\n",
      "remote: Total 753 (delta 440), reused 745 (delta 432), pack-reused 0\u001b[K\r\n",
      "Receiving objects: 100% (753/753), 9.37 MiB | 25.53 MiB/s, done.\r\n",
      "Resolving deltas: 100% (440/440), done.\r\n",
      "Collecting einops\r\n",
      "  Downloading einops-0.7.0-py3-none-any.whl (44 kB)\r\n",
      "\u001b[2K     \u001b[90m━━━━━━━━━━━━━━━━━━━━━━━━━━━━━━━━━━━━━━━━\u001b[0m \u001b[32m44.6/44.6 kB\u001b[0m \u001b[31m2.2 MB/s\u001b[0m eta \u001b[36m0:00:00\u001b[0m\r\n",
      "\u001b[?25hInstalling collected packages: einops\r\n",
      "Successfully installed einops-0.7.0\r\n",
      "Collecting hdf5storage\r\n",
      "  Downloading hdf5storage-0.1.19-py2.py3-none-any.whl (53 kB)\r\n",
      "\u001b[2K     \u001b[90m━━━━━━━━━━━━━━━━━━━━━━━━━━━━━━━━━━━━━━━━\u001b[0m \u001b[32m53.6/53.6 kB\u001b[0m \u001b[31m1.9 MB/s\u001b[0m eta \u001b[36m0:00:00\u001b[0m\r\n",
      "\u001b[?25hRequirement already satisfied: h5py>=2.1 in /opt/conda/lib/python3.10/site-packages (from hdf5storage) (3.9.0)\r\n",
      "Requirement already satisfied: numpy in /opt/conda/lib/python3.10/site-packages (from hdf5storage) (1.23.5)\r\n",
      "Installing collected packages: hdf5storage\r\n",
      "Successfully installed hdf5storage-0.1.19\r\n",
      "Collecting fvcore\r\n",
      "  Downloading fvcore-0.1.5.post20221221.tar.gz (50 kB)\r\n",
      "\u001b[2K     \u001b[90m━━━━━━━━━━━━━━━━━━━━━━━━━━━━━━━━━━━━━━━━\u001b[0m \u001b[32m50.2/50.2 kB\u001b[0m \u001b[31m2.3 MB/s\u001b[0m eta \u001b[36m0:00:00\u001b[0m\r\n",
      "\u001b[?25h  Preparing metadata (setup.py) ... \u001b[?25ldone\r\n",
      "\u001b[?25hRequirement already satisfied: numpy in /opt/conda/lib/python3.10/site-packages (from fvcore) (1.23.5)\r\n",
      "Collecting yacs>=0.1.6 (from fvcore)\r\n",
      "  Downloading yacs-0.1.8-py3-none-any.whl (14 kB)\r\n",
      "Requirement already satisfied: pyyaml>=5.1 in /opt/conda/lib/python3.10/site-packages (from fvcore) (6.0)\r\n",
      "Requirement already satisfied: tqdm in /opt/conda/lib/python3.10/site-packages (from fvcore) (4.66.1)\r\n",
      "Requirement already satisfied: termcolor>=1.1 in /opt/conda/lib/python3.10/site-packages (from fvcore) (2.3.0)\r\n",
      "Requirement already satisfied: Pillow in /opt/conda/lib/python3.10/site-packages (from fvcore) (9.5.0)\r\n",
      "Requirement already satisfied: tabulate in /opt/conda/lib/python3.10/site-packages (from fvcore) (0.9.0)\r\n",
      "Collecting iopath>=0.1.7 (from fvcore)\r\n",
      "  Downloading iopath-0.1.10.tar.gz (42 kB)\r\n",
      "\u001b[2K     \u001b[90m━━━━━━━━━━━━━━━━━━━━━━━━━━━━━━━━━━━━━━━━\u001b[0m \u001b[32m42.2/42.2 kB\u001b[0m \u001b[31m2.7 MB/s\u001b[0m eta \u001b[36m0:00:00\u001b[0m\r\n",
      "\u001b[?25h  Preparing metadata (setup.py) ... \u001b[?25ldone\r\n",
      "\u001b[?25hRequirement already satisfied: typing_extensions in /opt/conda/lib/python3.10/site-packages (from iopath>=0.1.7->fvcore) (4.6.3)\r\n",
      "Collecting portalocker (from iopath>=0.1.7->fvcore)\r\n",
      "  Downloading portalocker-2.8.2-py3-none-any.whl (17 kB)\r\n",
      "Building wheels for collected packages: fvcore, iopath\r\n",
      "  Building wheel for fvcore (setup.py) ... \u001b[?25l-\b \bdone\r\n",
      "\u001b[?25h  Created wheel for fvcore: filename=fvcore-0.1.5.post20221221-py3-none-any.whl size=61405 sha256=75a871f9096e1e1cd3268d0cba03e30b02e670a555bca8558be40f1cb687665e\r\n",
      "  Stored in directory: /root/.cache/pip/wheels/01/c0/af/77c1cf53a1be9e42a52b48e5af2169d40ec2e89f7362489dd0\r\n",
      "  Building wheel for iopath (setup.py) ... \u001b[?25l-\b \bdone\r\n",
      "\u001b[?25h  Created wheel for iopath: filename=iopath-0.1.10-py3-none-any.whl size=31531 sha256=916df1f2e25294b2c0dacef15f0023897918277b4e3170f25dfa0525228db4f9\r\n",
      "  Stored in directory: /root/.cache/pip/wheels/9a/a3/b6/ac0fcd1b4ed5cfeb3db92e6a0e476cfd48ed0df92b91080c1d\r\n",
      "Successfully built fvcore iopath\r\n",
      "Installing collected packages: yacs, portalocker, iopath, fvcore\r\n",
      "Successfully installed fvcore-0.1.5.post20221221 iopath-0.1.10 portalocker-2.8.2 yacs-0.1.8\r\n"
     ]
    }
   ],
   "source": [
    "#配置环境\n",
    "!git init\n",
    "!git clone https://github.com/Liangzai-dev/MST-plus-plus.git\n",
    "!pip install einops\n",
    "!pip install hdf5storage\n",
    "!pip install fvcore"
   ]
  },
  {
   "cell_type": "code",
   "execution_count": 2,
   "id": "1ef927e9",
   "metadata": {
    "execution": {
     "iopub.execute_input": "2023-10-12T04:43:38.163473Z",
     "iopub.status.busy": "2023-10-12T04:43:38.163129Z",
     "iopub.status.idle": "2023-10-12T04:43:49.882749Z",
     "shell.execute_reply": "2023-10-12T04:43:49.881114Z"
    },
    "papermill": {
     "duration": 11.730442,
     "end_time": "2023-10-12T04:43:49.888230",
     "exception": false,
     "start_time": "2023-10-12T04:43:38.157788",
     "status": "completed"
    },
    "tags": []
   },
   "outputs": [],
   "source": [
    "#数据准备\n",
    "!cp -r /kaggle/input/model-zoo /kaggle/working/MST-plus-plus/test_develop_code\n",
    "#!cp -r /kaggle/input/mst-data/Valid_RGB /kaggle/working/MST-plus-plus/dataset\n",
    "!cp -r /kaggle/input/model-zoo /kaggle/working/MST-plus-plus/test_challenge_code\n",
    "#!cp -r /kaggle/input/mst-data/Test_RGB /kaggle/working/MST-plus-plus/dataset\n",
    "#把data_root设置为/kaggle/input/mst-data"
   ]
  },
  {
   "cell_type": "code",
   "execution_count": 3,
   "id": "28ab8667",
   "metadata": {
    "execution": {
     "iopub.execute_input": "2023-10-12T04:43:49.967859Z",
     "iopub.status.busy": "2023-10-12T04:43:49.967311Z",
     "iopub.status.idle": "2023-10-12T04:43:51.847335Z",
     "shell.execute_reply": "2023-10-12T04:43:51.846002Z"
    },
    "papermill": {
     "duration": 1.900252,
     "end_time": "2023-10-12T04:43:51.851030",
     "exception": false,
     "start_time": "2023-10-12T04:43:49.950778",
     "status": "completed"
    },
    "tags": []
   },
   "outputs": [
    {
     "name": "stdout",
     "output_type": "stream",
     "text": [
      "python: can't open file '/kaggle/working/test.py': [Errno 2] No such file or directory\r\n"
     ]
    }
   ],
   "source": [
    "#3、Evaluation on the Validation Set\n",
    "#在执行cd命令时，要在命令行运行不带！的\n",
    "#执行cd /kaggle/working/MST-plus-plus/test_develop_code\n",
    "!python test.py --data_root /kaggle/input/mst-data --pretrained_model_path ./model-zoo/mst_plus_plus.pth --outf ./exp/mst_plus_plus/  --gpu_id 0"
   ]
  },
  {
   "cell_type": "code",
   "execution_count": 4,
   "id": "163cf1b7",
   "metadata": {
    "execution": {
     "iopub.execute_input": "2023-10-12T04:43:53.583024Z",
     "iopub.status.busy": "2023-10-12T04:43:53.582454Z",
     "iopub.status.idle": "2023-10-12T04:43:54.788900Z",
     "shell.execute_reply": "2023-10-12T04:43:54.787854Z"
    },
    "papermill": {
     "duration": 1.355116,
     "end_time": "2023-10-12T04:43:54.791219",
     "exception": false,
     "start_time": "2023-10-12T04:43:53.436103",
     "status": "completed"
    },
    "tags": []
   },
   "outputs": [
    {
     "name": "stdout",
     "output_type": "stream",
     "text": [
      "python: can't open file '/kaggle/working/test.py': [Errno 2] No such file or directory\r\n"
     ]
    }
   ],
   "source": [
    "!python test.py --data_root /kaggle/input/mst-data --method mst_plus_plus --pretrained_model_path /kaggle/working/MST-plus-plus/test_challenge_code/model-zoo/mst_plus_plus.pth --outf ./exp/mst_plus_plus/  --gpu_id 0"
   ]
  },
  {
   "cell_type": "code",
   "execution_count": 5,
   "id": "0c17a0cf",
   "metadata": {
    "execution": {
     "iopub.execute_input": "2023-10-12T04:43:54.801021Z",
     "iopub.status.busy": "2023-10-12T04:43:54.800710Z",
     "iopub.status.idle": "2023-10-12T04:43:55.942410Z",
     "shell.execute_reply": "2023-10-12T04:43:55.941074Z"
    },
    "papermill": {
     "duration": 1.149551,
     "end_time": "2023-10-12T04:43:55.944927",
     "exception": false,
     "start_time": "2023-10-12T04:43:54.795376",
     "status": "completed"
    },
    "tags": []
   },
   "outputs": [
    {
     "name": "stdout",
     "output_type": "stream",
     "text": [
      "python: can't open file '/kaggle/working/test.py': [Errno 2] No such file or directory\r\n"
     ]
    }
   ],
   "source": [
    "#预测数据准备\n",
    "#!cp -r /kaggle/input/model-zoo /kaggle/working/MST-plus-plus/predict_code\n",
    "#mv /kaggle/working/MST-plus-plus/predict_code/model-zoo /kaggle/working/MST-plus-plus/predict_code/model_zoo \n",
    "!python test.py --rgb_path ./demo/ARAD_1K_0912.jpg  --method mst_plus_plus --pretrained_model_path ./model_zoo/mst_plus_plus.pth --outf ./exp/mst_plus_plus/  --gpu_id 0"
   ]
  },
  {
   "cell_type": "code",
   "execution_count": 6,
   "id": "2cdf5e26",
   "metadata": {
    "execution": {
     "iopub.execute_input": "2023-10-12T04:43:55.959858Z",
     "iopub.status.busy": "2023-10-12T04:43:55.958807Z",
     "iopub.status.idle": "2023-10-12T04:43:57.035573Z",
     "shell.execute_reply": "2023-10-12T04:43:57.034402Z"
    },
    "papermill": {
     "duration": 1.087148,
     "end_time": "2023-10-12T04:43:57.037885",
     "exception": false,
     "start_time": "2023-10-12T04:43:55.950737",
     "status": "completed"
    },
    "tags": []
   },
   "outputs": [
    {
     "name": "stdout",
     "output_type": "stream",
     "text": [
      "cp: cannot stat '/kaggle/working/MST-plus-plus/predict_code/exp/mst_plus_plus/ARAD_1K_0912.mat': No such file or directory\r\n"
     ]
    }
   ],
   "source": [
    "!cp /kaggle/working/MST-plus-plus/predict_code/exp/mst_plus_plus/ARAD_1K_0912.mat /kaggle/working/MST-plus-plus/visualization/simulation_results/results "
   ]
  },
  {
   "cell_type": "code",
   "execution_count": 7,
   "id": "cbf14631",
   "metadata": {
    "execution": {
     "iopub.execute_input": "2023-10-12T04:43:57.048520Z",
     "iopub.status.busy": "2023-10-12T04:43:57.047750Z",
     "iopub.status.idle": "2023-10-12T04:43:57.055011Z",
     "shell.execute_reply": "2023-10-12T04:43:57.053889Z"
    },
    "papermill": {
     "duration": 0.014186,
     "end_time": "2023-10-12T04:43:57.056819",
     "exception": false,
     "start_time": "2023-10-12T04:43:57.042633",
     "status": "completed"
    },
    "tags": []
   },
   "outputs": [
    {
     "name": "stdout",
     "output_type": "stream",
     "text": [
      "[Errno 2] No such file or directory: '../visualization'\n",
      "/kaggle/working\n"
     ]
    }
   ],
   "source": [
    "cd ../visualization\n"
   ]
  }
 ],
 "metadata": {
  "kernelspec": {
   "display_name": "Python 3",
   "language": "python",
   "name": "python3"
  },
  "language_info": {
   "codemirror_mode": {
    "name": "ipython",
    "version": 3
   },
   "file_extension": ".py",
   "mimetype": "text/x-python",
   "name": "python",
   "nbconvert_exporter": "python",
   "pygments_lexer": "ipython3",
   "version": "3.10.12"
  },
  "papermill": {
   "default_parameters": {},
   "duration": 62.797512,
   "end_time": "2023-10-12T04:43:57.379921",
   "environment_variables": {},
   "exception": null,
   "input_path": "__notebook__.ipynb",
   "output_path": "__notebook__.ipynb",
   "parameters": {},
   "start_time": "2023-10-12T04:42:54.582409",
   "version": "2.4.0"
  }
 },
 "nbformat": 4,
 "nbformat_minor": 5
}
